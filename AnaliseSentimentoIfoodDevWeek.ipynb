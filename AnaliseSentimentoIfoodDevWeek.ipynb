{
  "cells": [
    {
      "cell_type": "markdown",
      "metadata": {
        "id": "oPigZArHe3d_"
      },
      "source": [
        "# iFood Dev Week\n",
        "\n",
        "Saiba mais sobre essa semana incrível nos artigos:\n",
        "- [Desvendando a iFood Dev Week](https://www.dio.me/articles/desvendando-a-ifood-dev-week)\n",
        "- [Fechando a iFood Dev Week Com Chave de Ouro](https://web.dio.me/articles/fechando-a-ifood-dev-week-com-chave-de-ouro)"
      ]
    },
    {
      "cell_type": "markdown",
      "metadata": {
        "id": "VJ9ncXpVjIz9"
      },
      "source": [
        "## Dia 1: [Conheça o Google Colab e o Projeto Desta Dev Week](https://www.youtube.com/live/59XwC5e8U1k?feature=share)\n",
        "\n",
        "Vamos mergulhar no Google Colab, aprendendo como ele pode ser usado para automatizar tarefas cotidianas, principalmente através da manipulação de planilhas. Além disso, você aprenderá na prática o conceito do Net Promoter Score (NPS), uma métrica fundamental para entender a satisfação do cliente."
      ]
    },
    {
      "cell_type": "code",
      "execution_count": 2,
      "metadata": {},
      "outputs": [
        {
          "name": "stdout",
          "output_type": "stream",
          "text": [
            "Collecting gdown\n",
            "  Downloading gdown-4.7.1-py3-none-any.whl (15 kB)\n",
            "Collecting filelock (from gdown)\n",
            "  Downloading filelock-3.12.2-py3-none-any.whl (10 kB)\n",
            "Collecting requests[socks] (from gdown)\n",
            "  Downloading requests-2.31.0-py3-none-any.whl (62 kB)\n",
            "     -------------------------------------- 62.6/62.6 kB 159.6 kB/s eta 0:00:00\n",
            "Requirement already satisfied: six in c:\\users\\usuario\\appdata\\roaming\\python\\python37\\site-packages (from gdown) (1.16.0)\n",
            "Collecting tqdm (from gdown)\n",
            "  Downloading tqdm-4.66.1-py3-none-any.whl (78 kB)\n",
            "     -------------------------------------- 78.3/78.3 kB 544.1 kB/s eta 0:00:00\n",
            "Collecting beautifulsoup4 (from gdown)\n",
            "  Downloading beautifulsoup4-4.12.2-py3-none-any.whl (142 kB)\n",
            "     ------------------------------------ 143.0/143.0 kB 845.5 kB/s eta 0:00:00\n",
            "Collecting soupsieve>1.2 (from beautifulsoup4->gdown)\n",
            "  Downloading soupsieve-2.4.1-py3-none-any.whl (36 kB)\n",
            "Collecting charset-normalizer<4,>=2 (from requests[socks]->gdown)\n",
            "  Downloading charset_normalizer-3.3.0-cp37-cp37m-win_amd64.whl (96 kB)\n",
            "     -------------------------------------- 96.2/96.2 kB 687.5 kB/s eta 0:00:00\n",
            "Collecting idna<4,>=2.5 (from requests[socks]->gdown)\n",
            "  Using cached idna-3.4-py3-none-any.whl (61 kB)\n",
            "Collecting urllib3<3,>=1.21.1 (from requests[socks]->gdown)\n",
            "  Downloading urllib3-2.0.6-py3-none-any.whl (123 kB)\n",
            "     ------------------------------------ 123.8/123.8 kB 559.4 kB/s eta 0:00:00\n",
            "Collecting certifi>=2017.4.17 (from requests[socks]->gdown)\n",
            "  Downloading certifi-2023.7.22-py3-none-any.whl (158 kB)\n",
            "     -------------------------------------- 158.3/158.3 kB 1.2 MB/s eta 0:00:00\n",
            "Collecting PySocks!=1.5.7,>=1.5.6 (from requests[socks]->gdown)\n",
            "  Using cached PySocks-1.7.1-py3-none-any.whl (16 kB)\n",
            "Requirement already satisfied: colorama in c:\\users\\usuario\\appdata\\roaming\\python\\python37\\site-packages (from tqdm->gdown) (0.4.6)\n",
            "Installing collected packages: urllib3, tqdm, soupsieve, PySocks, idna, filelock, charset-normalizer, certifi, requests, beautifulsoup4, gdown\n",
            "Successfully installed PySocks-1.7.1 beautifulsoup4-4.12.2 certifi-2023.7.22 charset-normalizer-3.3.0 filelock-3.12.2 gdown-4.7.1 idna-3.4 requests-2.31.0 soupsieve-2.4.1 tqdm-4.66.1 urllib3-2.0.6\n",
            "Note: you may need to restart the kernel to use updated packages.\n"
          ]
        },
        {
          "name": "stderr",
          "output_type": "stream",
          "text": [
            "\n",
            "[notice] A new release of pip is available: 23.1.2 -> 23.2.1\n",
            "[notice] To update, run: python.exe -m pip install --upgrade pip\n"
          ]
        }
      ],
      "source": [
        "%pip install gdown"
      ]
    },
    {
      "cell_type": "code",
      "execution_count": 3,
      "metadata": {
        "colab": {
          "base_uri": "https://localhost:8080/",
          "height": 105
        },
        "id": "NbC1PgziTHai",
        "outputId": "73989ef1-02eb-4a68-fdb4-e22421da916a"
      },
      "outputs": [
        {
          "name": "stderr",
          "output_type": "stream",
          "text": [
            "Downloading...\n",
            "From: https://drive.google.com/uc?id=1udBS_lnCGVo6CiqcVrxUNoduVxvaO8VS\n",
            "To: c:\\Workspace\\AnaliseSentimentoPython\\feedback.csv\n",
            "100%|██████████| 400/400 [00:00<00:00, 200kB/s]\n"
          ]
        },
        {
          "data": {
            "text/plain": [
              "'feedback.csv'"
            ]
          },
          "execution_count": 3,
          "metadata": {},
          "output_type": "execute_result"
        }
      ],
      "source": [
        "\"\"\"\n",
        "Este código baixa um arquivo CSV de feedbacks do Google Drive e carrega os dados em um DataFrame pandas.\n",
        "\n",
        "O arquivo é identificado por um ID único ('file_id'), que é extraído da URL do arquivo no Google Drive.\n",
        "A URL do arquivo no Google Drive tem o seguinte formato:\n",
        "https://drive.google.com/file/d/FILE_ID/view?usp=sharing\n",
        "https://drive.google.com/file/d//view?usp=sharing\n",
        "\"\"\"\n",
        "\n",
        "import gdown\n",
        "import pandas as pd\n",
        "\n",
        "file_id = '1udBS_lnCGVo6CiqcVrxUNoduVxvaO8VS'\n",
        "gdown.download(f'https://drive.google.com/uc?id={file_id}', 'feedback.csv')"
      ]
    },
    {
      "cell_type": "code",
      "execution_count": 6,
      "metadata": {
        "colab": {
          "base_uri": "https://localhost:8080/"
        },
        "id": "JKCpO5PSQGC-",
        "outputId": "6dcd4763-e850-4813-fd98-a6f15fc6c121"
      },
      "outputs": [
        {
          "name": "stdout",
          "output_type": "stream",
          "text": [
            "-22.22222222222222\n"
          ]
        }
      ],
      "source": [
        "dados = pd.read_csv('./feedback.csv', delimiter=',')\n",
        "\n",
        "class Feedback:\n",
        "  def __init__(self, nota, comentario):\n",
        "    self.nota = nota\n",
        "    self.comentario = comentario\n",
        "\n",
        "class AnalisadorFeedback:\n",
        "  def __init__(self, feedbacks):\n",
        "    self.feedbacks = feedbacks\n",
        "\n",
        "  def calcular_nps(self):\n",
        "    # Por ser uma list do Python, aplicamos o conceito de \"list comprehension\" para filtrar nossos Feedbacks.\n",
        "    detratores = sum(1 for feedback in self.feedbacks if feedback.nota <= 6)\n",
        "    promotores = sum(1 for feedback in self.feedbacks if feedback.nota >= 9)\n",
        "\n",
        "    return (promotores - detratores) / len(self.feedbacks) * 100\n",
        "\n",
        "feedbacks = dados.apply(lambda linha: Feedback(linha['Notas'], linha['Comentários']), axis=1)\n",
        "\n",
        "analisador = AnalisadorFeedback(feedbacks)\n",
        "nps = analisador.calcular_nps()\n",
        "\n",
        "print(nps)"
      ]
    },
    {
      "cell_type": "markdown",
      "metadata": {
        "id": "JcoTlX-QbP5u"
      },
      "source": [
        "#### Versão 1: Paradigma Imperativo."
      ]
    },
    {
      "cell_type": "code",
      "execution_count": 7,
      "metadata": {
        "colab": {
          "base_uri": "https://localhost:8080/"
        },
        "id": "pQo2iXQLPjnR",
        "outputId": "5ab20525-6ef4-486f-d344-edc58b5d737a"
      },
      "outputs": [
        {
          "name": "stdout",
          "output_type": "stream",
          "text": [
            "-22.22222222222222\n"
          ]
        }
      ],
      "source": [
        "#@title\n",
        "\"\"\"\n",
        "Versão 1: Paradigma Imperativo.\n",
        "\n",
        "Este script lê um arquivo CSV contendo feedback de usuários, no qual cada feedback tem uma nota associada.\n",
        "O NPS é calculado como a diferença entre o percentual de promotores (nota >= 9) e detratores (nota <= 6), multiplicada por 100.\n",
        "A implementação é realizada de uma maneira imperativa, onde os comandos são executados sequencialmente.\n",
        "\"\"\"\n",
        "\n",
        "notas = dados['Notas']\n",
        "\n",
        "detratores = 0\n",
        "promotores = 0\n",
        "\n",
        "for nota in notas:\n",
        "  if nota >= 9:\n",
        "    promotores += 1\n",
        "  elif nota <= 6:\n",
        "    detratores += 1\n",
        "\n",
        "nps = (promotores - detratores) / len(notas) * 100\n",
        "\n",
        "print(nps)"
      ]
    },
    {
      "cell_type": "markdown",
      "metadata": {
        "id": "AsIks5PCbHsW"
      },
      "source": [
        "#### Versão 2: Paradigma Funcional."
      ]
    },
    {
      "cell_type": "code",
      "execution_count": 8,
      "metadata": {
        "colab": {
          "base_uri": "https://localhost:8080/"
        },
        "id": "-qLL6LQ1qcAR",
        "outputId": "26f4afae-f196-45a1-fa26-4aef0a6fc8a0"
      },
      "outputs": [
        {
          "name": "stdout",
          "output_type": "stream",
          "text": [
            "-22.22222222222222\n",
            "-22.22222222222222\n"
          ]
        }
      ],
      "source": [
        "#@title\n",
        "\"\"\"\n",
        "Versão 2: Paradigma Funcional.\n",
        "\n",
        "Este código segue uma abordagem funcional para calcular o NPS a partir dos dados de feedback.\n",
        "A função \"calcular_nps\" é definida para encapsular a lógica do cálculo do NPS. Esta versão apresenta\n",
        "uma separação de responsabilidades mais clara do que a versão imperativa, além de melhorias de código pontuais.\n",
        "\"\"\"\n",
        "\n",
        "import pandas as pd\n",
        "\n",
        "def calcular_nps(notas):\n",
        "  detratores = notas.apply(lambda nota: nota <= 6).sum()\n",
        "  promotores = notas[notas >= 9].count()\n",
        "\n",
        "  return (promotores - detratores) / len(notas) * 100\n",
        "\n",
        "def calcular_nps2(notas):\n",
        "    detratores = sum(nota <= 6 for nota in notas)\n",
        "    promotores = sum(nota >= 9 for nota in notas)\n",
        "    return (promotores - detratores) / len(notas) * 100\n",
        "\n",
        "\n",
        "notas = dados['Notas']\n",
        "notas2 = dados['Notas']\n",
        "\n",
        "nps = calcular_nps(notas)\n",
        "nps2 = calcular_nps2(notas)\n",
        "\n",
        "print(nps)\n",
        "print(nps2)"
      ]
    },
    {
      "cell_type": "markdown",
      "metadata": {
        "id": "ZLIWb4XPbBo6"
      },
      "source": [
        "#### Versão 3: Paradigma Orientado a Objetos (POO)."
      ]
    },
    {
      "cell_type": "code",
      "execution_count": 9,
      "metadata": {
        "colab": {
          "base_uri": "https://localhost:8080/"
        },
        "id": "Rzhk-sOXrwJb",
        "outputId": "44e5e32e-e2c0-4a19-d84c-12d8d9164c46"
      },
      "outputs": [
        {
          "name": "stdout",
          "output_type": "stream",
          "text": [
            "-22.22222222222222\n"
          ]
        }
      ],
      "source": [
        "\"\"\"\n",
        "Versão 3: Paradigma Orientado a Objetos (POO).\n",
        "\n",
        "Este script adota uma abordagem Orientada a Objetos (OO) para calcular o NPS a partir de feedback de usuários.\n",
        "Duas classes são definidas, onde:\n",
        "- Feedback representa um único feedback de usuário;\n",
        "- AnalisadorFeedback é usado para calcular o NPS a partir de uma lista de Feedbacks.\n",
        "A POO fornece uma abstração mais clara dos dados e comportamentos envolvidos no cálculo do NPS.\n",
        "Desta forma, nossa solução estará preparada para as evoluções do nosso projeto.\n",
        "\"\"\"\n",
        "\n",
        "class Feedback:\n",
        "  def __init__(self, nota, comentario):\n",
        "    self.nota = nota\n",
        "    self.comentario = comentario\n",
        "\n",
        "class AnalisadorFeedback:\n",
        "  def __init__(self, feedbacks):\n",
        "    self.feedbacks = feedbacks\n",
        "\n",
        "  def calcular_nps(self):\n",
        "    # Por ser uma list do Python, aplicamos o conceito de \"list comprehension\" para filtrar nossos Feedbacks.\n",
        "    detratores = sum(1 for feedback in self.feedbacks if feedback.nota <= 6)\n",
        "    promotores = sum(1 for feedback in self.feedbacks if feedback.nota >= 9)\n",
        "\n",
        "    return (promotores - detratores) / len(self.feedbacks) * 100\n",
        "\n",
        "feedbacks = dados.apply(lambda linha: Feedback(linha['Notas'], linha['Comentários']), axis=1)\n",
        "\n",
        "analisador = AnalisadorFeedback(feedbacks)\n",
        "nps = analisador.calcular_nps()\n",
        "\n",
        "print(nps)"
      ]
    },
    {
      "cell_type": "markdown",
      "metadata": {
        "id": "ekkcgs-nujuG"
      },
      "source": [
        "## Dia 2: [Desvendando o Poder dos Seus Dados com Python](https://www.youtube.com/live/2Y59NEO9KU4?feature=share)\n",
        "\n",
        "No segundo dia, vamos conectar nosso Google Colab ao Google Drive, extrair dados do NPS e aplicar as técnicas de ETL (Extração, Transformação e Carregamento) nesses dados. Com a ajuda da biblioteca matplotlib, criaremos gráficos para visualizar e compreender o nível de satisfação dos nossos usuários."
      ]
    },
    {
      "cell_type": "code",
      "execution_count": 11,
      "metadata": {},
      "outputs": [
        {
          "name": "stdout",
          "output_type": "stream",
          "text": [
            "Collecting matplotlib\n",
            "  Downloading matplotlib-3.5.3-cp37-cp37m-win_amd64.whl (7.2 MB)\n",
            "     ---------------------------------------- 7.2/7.2 MB 556.0 kB/s eta 0:00:00\n",
            "Collecting cycler>=0.10 (from matplotlib)\n",
            "  Using cached cycler-0.11.0-py3-none-any.whl (6.4 kB)\n",
            "Collecting fonttools>=4.22.0 (from matplotlib)\n",
            "  Downloading fonttools-4.38.0-py3-none-any.whl (965 kB)\n",
            "     ------------------------------------ 965.4/965.4 kB 686.6 kB/s eta 0:00:00\n",
            "Collecting kiwisolver>=1.0.1 (from matplotlib)\n",
            "  Downloading kiwisolver-1.4.5-cp37-cp37m-win_amd64.whl (55 kB)\n",
            "     ---------------------------------------- 55.8/55.8 kB 1.5 MB/s eta 0:00:00\n",
            "Requirement already satisfied: numpy>=1.17 in c:\\python37\\lib\\site-packages (from matplotlib) (1.21.6)\n",
            "Requirement already satisfied: packaging>=20.0 in c:\\users\\usuario\\appdata\\roaming\\python\\python37\\site-packages (from matplotlib) (23.1)\n",
            "Collecting pillow>=6.2.0 (from matplotlib)\n",
            "  Downloading Pillow-9.5.0-cp37-cp37m-win_amd64.whl (2.5 MB)\n",
            "     ---------------------------------------- 2.5/2.5 MB 741.8 kB/s eta 0:00:00\n",
            "Collecting pyparsing>=2.2.1 (from matplotlib)\n",
            "  Downloading pyparsing-3.1.1-py3-none-any.whl (103 kB)\n",
            "     ------------------------------------ 103.1/103.1 kB 424.2 kB/s eta 0:00:00\n",
            "Requirement already satisfied: python-dateutil>=2.7 in c:\\users\\usuario\\appdata\\roaming\\python\\python37\\site-packages (from matplotlib) (2.8.2)\n",
            "Collecting typing-extensions (from kiwisolver>=1.0.1->matplotlib)\n",
            "  Downloading typing_extensions-4.7.1-py3-none-any.whl (33 kB)\n",
            "Requirement already satisfied: six>=1.5 in c:\\users\\usuario\\appdata\\roaming\\python\\python37\\site-packages (from python-dateutil>=2.7->matplotlib) (1.16.0)\n",
            "Installing collected packages: typing-extensions, pyparsing, pillow, fonttools, cycler, kiwisolver, matplotlib\n",
            "Successfully installed cycler-0.11.0 fonttools-4.38.0 kiwisolver-1.4.5 matplotlib-3.5.3 pillow-9.5.0 pyparsing-3.1.1 typing-extensions-4.7.1\n",
            "Note: you may need to restart the kernel to use updated packages.\n"
          ]
        },
        {
          "name": "stderr",
          "output_type": "stream",
          "text": [
            "\n",
            "[notice] A new release of pip is available: 23.1.2 -> 23.2.1\n",
            "[notice] To update, run: python.exe -m pip install --upgrade pip\n"
          ]
        }
      ],
      "source": [
        "%pip install matplotlib"
      ]
    },
    {
      "cell_type": "code",
      "execution_count": 12,
      "metadata": {
        "colab": {
          "base_uri": "https://localhost:8080/",
          "height": 237
        },
        "id": "bXaJ7Q0zf95l",
        "outputId": "26573ce3-fec5-48cb-a6fc-22e85eceebac"
      },
      "outputs": [
        {
          "data": {
            "image/png": "[encoded data removed]",
            "text/plain": [
              "<Figure size 1000x200 with 1 Axes>"
            ]
          },
          "metadata": {},
          "output_type": "display_data"
        }
      ],
      "source": [
        "\"\"\"\n",
        "Criar um gráfico usando \"matplotlib\" para visualizar o NPS que calculamos no Dia 1!\n",
        "\"\"\"\n",
        "\n",
        "import matplotlib.pyplot as plt\n",
        "import matplotlib.patches as mpatches\n",
        "\n",
        "# Definição das constantes que usaremos para visualizar o NPS\n",
        "NPS_ZONAS =   ['Crítico', 'Aperfeiçoamento', 'Qualidade', 'Excelência']\n",
        "NPS_VALORES = [-100, 0, 50, 75, 100]\n",
        "NPS_CORES =   ['#FF595E', '#FFCA3A', '#8AC926', '#1982C4']\n",
        "\n",
        "def criar_grafico_nps(nps):\n",
        "  # Inicia a figura e os eixos.\n",
        "  fig, ax = plt.subplots(figsize=(10, 2))\n",
        "\n",
        "  # Itera sobre as zonas para criar a barra de cores do gráfico.\n",
        "  for i, zona in enumerate(NPS_ZONAS):\n",
        "    ax.barh([0], width=NPS_VALORES[i+1]-NPS_VALORES[i], left=NPS_VALORES[i], color=NPS_CORES[i])\n",
        "\n",
        "  # Cria a \"seta\" que vai indicar o NPS no gráfico.\n",
        "  ax.barh([0], width=1, left=nps, color='black')\n",
        "  # Remove os ticks do eixo Y\n",
        "  ax.set_yticks([])\n",
        "  # Define os limites do eixo X\n",
        "  ax.set_xlim(-100, 100)\n",
        "  # Define os ticks do eixo X\n",
        "  ax.set_xticks(NPS_VALORES)\n",
        "\n",
        "  # Inclui um texto com o valor de NPS, o qual ficará alinhado com a \"seta\" criada anteriormente.\n",
        "  plt.text(nps, 0, f'{nps:.2f}', ha='center', va='center', color='white', bbox=dict(facecolor='black'))\n",
        "\n",
        "  # Cria a legenda do gráfico\n",
        "  patches = [mpatches.Patch(color=NPS_CORES[i], label=NPS_ZONAS[i]) for i in range(len(NPS_ZONAS))]\n",
        "  plt.legend(handles=patches, bbox_to_anchor=(1,1))\n",
        "\n",
        "  # Inclui um título no gráfico.\n",
        "  plt.title('Gráfico de NPS')\n",
        "\n",
        "  # Mostra o gráfico.\n",
        "  plt.show()\n",
        "\n",
        "criar_grafico_nps(nps)"
      ]
    },
    {
      "cell_type": "markdown",
      "metadata": {
        "id": "jHl6lLS1usU1"
      },
      "source": [
        "## Dia 3: [Decifrando Sentimentos com Inteligência Artificial (IA)](https://www.youtube.com/live/wj9tVSWVzOM?feature=share)\n",
        "\n",
        "No último dia, vamos utilizar as técnicas de Processamento de Linguagem Natural (PLN) para analisar os sentimentos expressos nos comentários associados às notas de NPS. Dessa forma, teremos uma perspectiva qualitativa que complementa nossos dados quantitativos."
      ]
    },
    {
      "cell_type": "code",
      "execution_count": 13,
      "metadata": {
        "colab": {
          "base_uri": "https://localhost:8080/"
        },
        "id": "4GgxVSEDUevW",
        "outputId": "76e76645-a09d-4592-b3ad-0e77ca0a474d"
      },
      "outputs": [
        {
          "name": "stdout",
          "output_type": "stream",
          "text": [
            "Collecting openai\n",
            "  Downloading openai-0.28.1-py3-none-any.whl (76 kB)\n",
            "     -------------------------------------- 77.0/77.0 kB 327.0 kB/s eta 0:00:00\n",
            "Requirement already satisfied: requests>=2.20 in c:\\python37\\lib\\site-packages (from openai) (2.31.0)\n",
            "Requirement already satisfied: tqdm in c:\\python37\\lib\\site-packages (from openai) (4.66.1)\n",
            "Collecting aiohttp (from openai)\n",
            "  Downloading aiohttp-3.8.6-cp37-cp37m-win_amd64.whl (326 kB)\n",
            "     ------------------------------------ 326.9/326.9 kB 920.6 kB/s eta 0:00:00\n",
            "Requirement already satisfied: typing-extensions in c:\\python37\\lib\\site-packages (from openai) (4.7.1)\n",
            "Requirement already satisfied: charset-normalizer<4,>=2 in c:\\python37\\lib\\site-packages (from requests>=2.20->openai) (3.3.0)\n",
            "Requirement already satisfied: idna<4,>=2.5 in c:\\python37\\lib\\site-packages (from requests>=2.20->openai) (3.4)\n",
            "Requirement already satisfied: urllib3<3,>=1.21.1 in c:\\python37\\lib\\site-packages (from requests>=2.20->openai) (2.0.6)\n",
            "Requirement already satisfied: certifi>=2017.4.17 in c:\\python37\\lib\\site-packages (from requests>=2.20->openai) (2023.7.22)\n",
            "Collecting attrs>=17.3.0 (from aiohttp->openai)\n",
            "  Downloading attrs-23.1.0-py3-none-any.whl (61 kB)\n",
            "     --------------------------------------- 61.2/61.2 kB 66.5 kB/s eta 0:00:00\n",
            "Collecting multidict<7.0,>=4.5 (from aiohttp->openai)\n",
            "  Downloading multidict-6.0.4-cp37-cp37m-win_amd64.whl (27 kB)\n",
            "Collecting async-timeout<5.0,>=4.0.0a3 (from aiohttp->openai)\n",
            "  Downloading async_timeout-4.0.3-py3-none-any.whl (5.7 kB)\n",
            "Collecting yarl<2.0,>=1.0 (from aiohttp->openai)\n",
            "  Downloading yarl-1.9.2-cp37-cp37m-win_amd64.whl (61 kB)\n",
            "     -------------------------------------- 61.4/61.4 kB 251.8 kB/s eta 0:00:00\n",
            "Collecting frozenlist>=1.1.1 (from aiohttp->openai)\n",
            "  Downloading frozenlist-1.3.3-cp37-cp37m-win_amd64.whl (34 kB)\n",
            "Collecting aiosignal>=1.1.2 (from aiohttp->openai)\n",
            "  Downloading aiosignal-1.3.1-py3-none-any.whl (7.6 kB)\n",
            "Collecting asynctest==0.13.0 (from aiohttp->openai)\n",
            "  Downloading asynctest-0.13.0-py3-none-any.whl (26 kB)\n",
            "Requirement already satisfied: colorama in c:\\users\\usuario\\appdata\\roaming\\python\\python37\\site-packages (from tqdm->openai) (0.4.6)\n",
            "Collecting importlib-metadata (from attrs>=17.3.0->aiohttp->openai)\n",
            "  Downloading importlib_metadata-6.7.0-py3-none-any.whl (22 kB)\n",
            "Collecting zipp>=0.5 (from importlib-metadata->attrs>=17.3.0->aiohttp->openai)\n",
            "  Downloading zipp-3.15.0-py3-none-any.whl (6.8 kB)\n",
            "Installing collected packages: zipp, multidict, frozenlist, asynctest, async-timeout, yarl, importlib-metadata, aiosignal, attrs, aiohttp, openai\n",
            "Successfully installed aiohttp-3.8.6 aiosignal-1.3.1 async-timeout-4.0.3 asynctest-0.13.0 attrs-23.1.0 frozenlist-1.3.3 importlib-metadata-6.7.0 multidict-6.0.4 openai-0.28.1 yarl-1.9.2 zipp-3.15.0\n",
            "Note: you may need to restart the kernel to use updated packages.\n"
          ]
        },
        {
          "name": "stderr",
          "output_type": "stream",
          "text": [
            "\n",
            "[notice] A new release of pip is available: 23.1.2 -> 23.2.1\n",
            "[notice] To update, run: python.exe -m pip install --upgrade pip\n"
          ]
        }
      ],
      "source": [
        "%pip install openai"
      ]
    },
    {
      "cell_type": "code",
      "execution_count": 14,
      "metadata": {},
      "outputs": [
        {
          "name": "stdout",
          "output_type": "stream",
          "text": [
            "Collecting python-dotenv\n",
            "  Downloading python_dotenv-0.21.1-py3-none-any.whl (19 kB)\n",
            "Installing collected packages: python-dotenv\n",
            "Successfully installed python-dotenv-0.21.1\n",
            "Note: you may need to restart the kernel to use updated packages.\n"
          ]
        },
        {
          "name": "stderr",
          "output_type": "stream",
          "text": [
            "\n",
            "[notice] A new release of pip is available: 23.1.2 -> 23.2.1\n",
            "[notice] To update, run: python.exe -m pip install --upgrade pip\n"
          ]
        }
      ],
      "source": [
        "%pip install python-dotenv"
      ]
    },
    {
      "cell_type": "code",
      "execution_count": 15,
      "metadata": {
        "id": "ahl3NezxUD2r"
      },
      "outputs": [],
      "source": [
        "from dotenv import load_dotenv\n",
        "import os\n",
        "# Documentação Oficial da API OpenAI: https://platform.openai.com/docs/api-reference/introduction\n",
        "# Informações sobre o Período Gratuito: https://help.openai.com/en/articles/4936830\n",
        "\n",
        "# Para gerar uma API Key:\n",
        "# 1. Crie uma conta na OpenAI\n",
        "# 2. Acesse a seção \"API Keys\"\n",
        "# 3. Clique em \"Create API Key\"\n",
        "# Link direto: https://platform.openai.com/account/api-keys\n",
        "\n",
        "load_dotenv()\n",
        "\n",
        "openai_api_key = os.getenv('API_KEY')"
      ]
    },
    {
      "cell_type": "code",
      "execution_count": 16,
      "metadata": {
        "colab": {
          "base_uri": "https://localhost:8080/"
        },
        "id": "G7H3LfBgUU1h",
        "outputId": "bc218bc5-c135-41ed-b0b4-c2d45c9539b9"
      },
      "outputs": [
        {
          "name": "stdout",
          "output_type": "stream",
          "text": [
            "- Nota 9: Positivo. Experiência excelente! O feedback é muito positivo, não há sugestões de melhora apresentadas.\n",
            "\n",
            "- Nota 7: Positivo. Bootcamp bom, porém o aluno sente falta de mentorias sobre IA para torná-lo perfeito. Sugestão de melhora: adicionar mentorias sobre IA.\n",
            "\n",
            "- Nota 5: Neutro. Bootcamp considerado razoável, mas o aluno espera que o próximo seja sobre python. Não há sugestões específicas de melhora além dessa.\n",
            "\n",
            "- Nota 7: Positivo. Bootcamp bom, porém o aluno sente falta de mentorias sobre IA para torná-lo perfeito. Sugestão de melhora: adicionar mentorias sobre IA.\n",
            "\n",
            "- Nota 6: Neutro. Bootcamp considerado bom, mas o aluno acha que o material poderia ser mais completo. Sugestão de melhora: melhorar a qualidade do material apresentado.\n",
            "\n",
            "- Nota 5: Neutro. O aluno não destaca nada de especial sobre o bootcamp.\n",
            "\n",
            "- Nota 7: Positivo. O aluno gostou muito do bootcamp, mas não oferece sugestões específicas de melhora.\n",
            "\n",
            "- Nota 3: Negativo. O aluno não gostou do bootcamp, mas não oferece sugestões específicas de melhora.\n",
            "\n",
            "- Nota 10: Positivo. O aluno considera esse o melhor bootcamp de todos, sem sugestões de melhora.\n"
          ]
        }
      ],
      "source": [
        "\"\"\"\n",
        "Integrar com o ChatGPT e usá-lo como um modelo para análise de sentimentos dos nossos comentários.\n",
        "Seguem alguns links úteis:\n",
        "1. Endpoint que vamos consumir: https://platform.openai.com/docs/api-reference/chat/create\n",
        "2. Collection Postman da OpenAI: https://www.postman.com/devrel/workspace/openai/documentation/13183464-90abb798-cb85-43cb-ba3a-ae7941e968da\n",
        "\"\"\"\n",
        "\n",
        "import openai\n",
        "\n",
        "openai.api_key = openai_api_key\n",
        "\n",
        "def analisar_sentimentos(feedbacks):\n",
        "\n",
        "  comentarios_formatados = \"\\n\".join([f\"- Nota {feedback.nota}! {feedback.comentario}\" for feedback in feedbacks])\n",
        "\n",
        "  prompt = f\"\"\"\n",
        "            Sintetize uma análise geral sobre os seguintes comentário:\n",
        "            {comentarios_formatados}\n",
        "            \"\"\"\n",
        "  prompt2 = f\"\"\"\n",
        "            Classifique entre Positivo, Neutro e Negativo, mostrando a nota e sugerindo melhora\n",
        "            {comentarios_formatados}\n",
        "            \"\"\"\n",
        "\n",
        "  #vem da documentação da API\n",
        "  respostaAPI = openai.ChatCompletion.create(\n",
        "    model=\"gpt-3.5-turbo\",\n",
        "    messages=[\n",
        "      {   #Dando contexto pro programa\n",
        "          \"role\": \"system\",\n",
        "          \"content\": \"Você é um modelo de análise de sentimentos com foco em feedbacks sobre experiências educacionais.\"\n",
        "      },\n",
        "      {\n",
        "          \"role\": \"user\",\n",
        "          \"content\": prompt2\n",
        "      }\n",
        "    ]\n",
        "  )\n",
        "  # Retorno da resposta pela API\n",
        "  return respostaAPI.choices[0].message.content\n",
        "\n",
        "insigths = analisar_sentimentos(feedbacks)\n",
        "print(insigths)"
      ]
    }
  ],
  "metadata": {
    "colab": {
      "provenance": []
    },
    "kernelspec": {
      "display_name": "Python 3",
      "name": "python3"
    },
    "language_info": {
      "codemirror_mode": {
        "name": "ipython",
        "version": 3
      },
      "file_extension": ".py",
      "mimetype": "text/x-python",
      "name": "python",
      "nbconvert_exporter": "python",
      "pygments_lexer": "ipython3",
      "version": "3.7.9"
    }
  },
  "nbformat": 4,
  "nbformat_minor": 0
}
